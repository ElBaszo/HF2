{
    "metadata": {
        "kernelspec": {
            "name": "SQL",
            "display_name": "SQL",
            "language": "sql"
        },
        "language_info": {
            "name": "sql",
            "version": ""
        }
    },
    "nbformat_minor": 2,
    "nbformat": 4,
    "cells": [
        {
            "cell_type": "code",
            "source": [
                "\r\n",
                "CREATE TABLE HF\r\n",
                "(\r\n",
                "LOGIN varchar(32)\tMASKED WITH (Function = 'random(1,100)') NOT NULL,\r\n",
                "EMAIL varchar(64) MASKED WITH (Function = 'email()') NOT NULL,\r\n",
                "NEV varchar(64) MASKED WITH (function = 'parcial(1,***,1)') NOT NULL,\r\n",
                "SZULEV NUMERIC(4) NULL,\r\n",
                "NEM VARCHAR(1),\r\n",
                "CIM VARCHAR(128)\r\n",
                "PRIMARY KEY(LOGIN))\r\n",
                "\r\n",
                "INSERT INTO HF\r\n",
                "(LOGIN, EMAIL, NEV, SZULEV, NEM, CIM)\r\n",
                "SELECT LOGIN, EMAIL, NEV, SZULEV, NEM, CIM\r\n",
                "FROM UGYFEL\r\n",
                "\r\n",
                "CREATE USER MaskUser WITHOUT LOGIN;\r\n",
                "GRANT SELECT ON HF TO MaskUser\r\n",
                "\r\n",
                "EXECUTE AS User= 'MaskUser';\r\n",
                "SELECT * FROM HF\r\n",
                "REVERT"
            ],
            "metadata": {
                "azdata_cell_guid": "695deb10-4d61-48f2-b874-4cfd9fe30808",
                "language": "sql"
            },
            "outputs": [],
            "execution_count": null
        }
    ]
}